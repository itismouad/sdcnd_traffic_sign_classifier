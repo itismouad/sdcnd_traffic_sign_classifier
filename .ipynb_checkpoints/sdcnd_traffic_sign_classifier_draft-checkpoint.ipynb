{
 "cells": [
  {
   "cell_type": "markdown",
   "metadata": {},
   "source": [
    "## Project: Build a Traffic Sign Recognition Classifier\n",
    "\n",
    "Author : Mouad HADJI, November 11th, 2017\n",
    "\n",
    "In this project, I will explain how to "
   ]
  },
  {
   "cell_type": "markdown",
   "metadata": {},
   "source": [
    "---\n",
    "## 1. Import packages"
   ]
  },
  {
   "cell_type": "markdown",
   "metadata": {},
   "source": [
    "In this section, we import the packages we will use throughout the project. If there is the need for other packages, we will load them later."
   ]
  },
  {
   "cell_type": "code",
   "execution_count": 127,
   "metadata": {},
   "outputs": [],
   "source": [
    "import os\n",
    "import sys\n",
    "import glob\n",
    "import pickle\n",
    "import cv2\n",
    "import random\n",
    "from scipy import ndimage\n",
    "from tqdm import tqdm\n",
    "import pandas as pd\n",
    "import numpy as np\n",
    "import matplotlib.pyplot as plt\n",
    "import matplotlib.image as mpimg\n",
    "%matplotlib inline"
   ]
  },
  {
   "cell_type": "markdown",
   "metadata": {},
   "source": [
    "## 2. Load The Data"
   ]
  },
  {
   "cell_type": "markdown",
   "metadata": {},
   "source": [
    "We first load the 3 datasets (train, validation, test) that will allow us to train, measure the performance and evaluate our classifier. Since we will try training on both local machine and a GPU instance, we use a clean notation of paths."
   ]
  },
  {
   "cell_type": "code",
   "execution_count": 128,
   "metadata": {},
   "outputs": [],
   "source": [
    "project_path = os.path.join(os.environ['HOME'], \"sdcnd/sdcnd_traffic_sign_classifier\")\n",
    "data_path = os.path.join(project_path, \"traffic-signs-data\")\n",
    "model_path = os.path.join(project_path, \"models\")\n",
    "new_images_path = os.path.join(project_path, \"images\")"
   ]
  },
  {
   "cell_type": "code",
   "execution_count": 129,
   "metadata": {},
   "outputs": [],
   "source": [
    "training_file = os.path.join(data_path, \"train.p\")\n",
    "validation_file= os.path.join(data_path, \"valid.p\")\n",
    "testing_file = os.path.join(data_path, \"test.p\")"
   ]
  },
  {
   "cell_type": "code",
   "execution_count": 130,
   "metadata": {},
   "outputs": [],
   "source": [
    "with open(training_file, mode='rb') as f:\n",
    "    train = pickle.load(f)\n",
    "with open(validation_file, mode='rb') as f:\n",
    "    valid = pickle.load(f)\n",
    "with open(testing_file, mode='rb') as f:\n",
    "    test = pickle.load(f)"
   ]
  },
  {
   "cell_type": "code",
   "execution_count": 131,
   "metadata": {},
   "outputs": [],
   "source": [
    "X_train, y_train = train['features'], train['labels']\n",
    "X_valid, y_valid = valid['features'], valid['labels']\n",
    "X_test, y_test = test['features'], test['labels']"
   ]
  },
  {
   "cell_type": "markdown",
   "metadata": {},
   "source": [
    "Here, we shuffle the training data."
   ]
  },
  {
   "cell_type": "code",
   "execution_count": 132,
   "metadata": {},
   "outputs": [],
   "source": [
    "from sklearn.utils import shuffle\n",
    "\n",
    "X_train, y_train = shuffle(X_train, y_train)"
   ]
  },
  {
   "cell_type": "markdown",
   "metadata": {},
   "source": [
    "## 3. Data Exploration\n",
    "\n",
    "The pickled data is a dictionary with 4 key/value pairs:\n",
    "\n",
    "- `'features'` is a 4D array containing raw pixel data of the traffic sign images, (num examples, width, height, channels).\n",
    "- `'labels'` is a 1D array containing the label/class id of the traffic sign. The file `signnames.csv` contains id -> name mappings for each id.\n",
    "- `'sizes'` is a list containing tuples, (width, height) representing the original width and height the image.\n",
    "- `'coords'` is a list containing tuples, (x1, y1, x2, y2) representing coordinates of a bounding box around the sign in the image."
   ]
  },
  {
   "cell_type": "code",
   "execution_count": 133,
   "metadata": {},
   "outputs": [
    {
     "name": "stdout",
     "output_type": "stream",
     "text": [
      "Number of training examples = 34799\n",
      "Number of testing examples = 12630\n",
      "Image data shape = (32, 32, 3)\n",
      "Number of classes = 43\n"
     ]
    }
   ],
   "source": [
    "n_train = len(X_train)\n",
    "n_validation = len(X_valid)\n",
    "n_test = len(X_test)\n",
    "\n",
    "image_shape = train['features'][0].shape\n",
    "\n",
    "n_classes = len(set(train['labels']))\n",
    "\n",
    "print(\"Number of training examples =\", n_train)\n",
    "print(\"Number of testing examples =\", n_test)\n",
    "print(\"Image data shape =\", image_shape)\n",
    "print(\"Number of classes =\", n_classes)"
   ]
  },
  {
   "cell_type": "markdown",
   "metadata": {},
   "source": [
    "`sign_names` contains the names of the names. Let's load it and check out the label names"
   ]
  },
  {
   "cell_type": "code",
   "execution_count": 134,
   "metadata": {
    "scrolled": true
   },
   "outputs": [],
   "source": [
    "sign_names = pd.read_csv(os.path.join(project_path, \"signnames.csv\"))\n",
    "sign_names.set_index(\"ClassId\", inplace=True)\n",
    "sign_dict = sign_names.SignName.to_dict()"
   ]
  },
  {
   "cell_type": "code",
   "execution_count": 135,
   "metadata": {},
   "outputs": [
    {
     "data": {
      "text/plain": [
       "{0: 'Speed limit (20km/h)',\n",
       " 1: 'Speed limit (30km/h)',\n",
       " 2: 'Speed limit (50km/h)',\n",
       " 3: 'Speed limit (60km/h)',\n",
       " 4: 'Speed limit (70km/h)',\n",
       " 5: 'Speed limit (80km/h)',\n",
       " 6: 'End of speed limit (80km/h)',\n",
       " 7: 'Speed limit (100km/h)',\n",
       " 8: 'Speed limit (120km/h)',\n",
       " 9: 'No passing',\n",
       " 10: 'No passing for vehicles over 3.5 metric tons',\n",
       " 11: 'Right-of-way at the next intersection',\n",
       " 12: 'Priority road',\n",
       " 13: 'Yield',\n",
       " 14: 'Stop',\n",
       " 15: 'No vehicles',\n",
       " 16: 'Vehicles over 3.5 metric tons prohibited',\n",
       " 17: 'No entry',\n",
       " 18: 'General caution',\n",
       " 19: 'Dangerous curve to the left',\n",
       " 20: 'Dangerous curve to the right',\n",
       " 21: 'Double curve',\n",
       " 22: 'Bumpy road',\n",
       " 23: 'Slippery road',\n",
       " 24: 'Road narrows on the right',\n",
       " 25: 'Road work',\n",
       " 26: 'Traffic signals',\n",
       " 27: 'Pedestrians',\n",
       " 28: 'Children crossing',\n",
       " 29: 'Bicycles crossing',\n",
       " 30: 'Beware of ice/snow',\n",
       " 31: 'Wild animals crossing',\n",
       " 32: 'End of all speed and passing limits',\n",
       " 33: 'Turn right ahead',\n",
       " 34: 'Turn left ahead',\n",
       " 35: 'Ahead only',\n",
       " 36: 'Go straight or right',\n",
       " 37: 'Go straight or left',\n",
       " 38: 'Keep right',\n",
       " 39: 'Keep left',\n",
       " 40: 'Roundabout mandatory',\n",
       " 41: 'End of no passing',\n",
       " 42: 'End of no passing by vehicles over 3.5 metric tons'}"
      ]
     },
     "execution_count": 135,
     "metadata": {},
     "output_type": "execute_result"
    }
   ],
   "source": [
    "sign_dict"
   ]
  },
  {
   "cell_type": "markdown",
   "metadata": {},
   "source": [
    "### Visualize the dataset :"
   ]
  },
  {
   "cell_type": "code",
   "execution_count": 136,
   "metadata": {},
   "outputs": [],
   "source": [
    "def show_images(images, n_row, n_col, labels=None, cmap=None):\n",
    "\n",
    "    fig, ax = plt.subplots(n_row, n_col, figsize=(15, 6))\n",
    "    ax = ax.ravel()\n",
    "    n_images = n_row*n_col\n",
    "    \n",
    "    for i, image in enumerate(images):\n",
    "        plt.subplot(n_row, n_col, i+1)\n",
    "        cmap = 'gray' if len(image.shape)==2 else cmap\n",
    "        plt.imshow(image, cmap=cmap)\n",
    "        plt.xticks([])\n",
    "        plt.yticks([])\n",
    "    plt.tight_layout(pad=0, h_pad=0, w_pad=0)\n",
    "    plt.show()"
   ]
  },
  {
   "cell_type": "code",
   "execution_count": 137,
   "metadata": {},
   "outputs": [],
   "source": [
    "demo_index = list(np.random.randint(0, len(X_train) + 1, 6))\n",
    "demo_images = [X_train[i] for i in demo_index]\n",
    "demo_labels = [sign_dict[y_train[i]] for i in demo_index]"
   ]
  },
  {
   "cell_type": "code",
   "execution_count": 138,
   "metadata": {},
   "outputs": [
    {
     "name": "stdout",
     "output_type": "stream",
     "text": [
      "['Speed limit (50km/h)', 'Speed limit (50km/h)', 'No passing for vehicles over 3.5 metric tons', 'Stop', 'Stop', 'No passing for vehicles over 3.5 metric tons']\n"
     ]
    }
   ],
   "source": [
    "print(demo_labels)"
   ]
  },
  {
   "cell_type": "code",
   "execution_count": 139,
   "metadata": {},
   "outputs": [
    {
     "data": {
      "image/png": "[encoded data removed]",
      "text/plain": [
       "<matplotlib.figure.Figure at 0x12a9192e8>"
      ]
     },
     "metadata": {},
     "output_type": "display_data"
    }
   ],
   "source": [
    "show_images(demo_images, 2, 3, labels=demo_labels)"
   ]
  },
  {
   "cell_type": "markdown",
   "metadata": {},
   "source": [
    "#### Plotting a sample of traffic signs"
   ]
  },
  {
   "cell_type": "code",
   "execution_count": 140,
   "metadata": {},
   "outputs": [
    {
     "data": {
      "image/png": "[encoded data removed]",
      "text/plain": [
       "<matplotlib.figure.Figure at 0x12a919f28>"
      ]
     },
     "metadata": {},
     "output_type": "display_data"
    }
   ],
   "source": [
    "fig, ax = plt.subplots(2,3, figsize=(15, 6))\n",
    "ax = ax.ravel()\n",
    "for i in range(6):\n",
    "    index = random.randint(0, len(X_train))\n",
    "    image = X_train[index]\n",
    "    ax[i].axis('off')\n",
    "    ax[i].imshow(image)\n",
    "    ax[i].set_title(sign_dict[y_train[index]])"
   ]
  },
  {
   "cell_type": "markdown",
   "metadata": {},
   "source": [
    "#### Plotting the distribution of the classes"
   ]
  },
  {
   "cell_type": "code",
   "execution_count": 26,
   "metadata": {},
   "outputs": [
    {
     "data": {
      "image/png": "[encoded data removed]",
      "text/plain": [
       "<matplotlib.figure.Figure at 0x1299d8cf8>"
      ]
     },
     "metadata": {},
     "output_type": "display_data"
    }
   ],
   "source": [
    "plt.figure(figsize=(10,5))\n",
    "plt.xlabel(\"Sign Index\")\n",
    "plt.ylabel(\"Count of examples\")\n",
    "plt.hist(y_train, bins=list(range(n_classes)), rwidth=0.9)\n",
    "plt.title(\"Histogram of the traffic sign labels\")\n",
    "plt.show()"
   ]
  },
  {
   "cell_type": "markdown",
   "metadata": {},
   "source": [
    "We can note that the dataset is not balanced at all. This is not optimal but hopefully we can achieve great performance with this imbalanced dataset."
   ]
  },
  {
   "cell_type": "markdown",
   "metadata": {},
   "source": [
    "----\n",
    "\n",
    "## 4. Design and Test a Model Architecture\n",
    "\n",
    "Let us now design and implement a deep learning model that learns to recognize traffic signs. We will implement this in different steps :\n",
    "\n",
    "- First, we will create a pipeline for **pre-processing** the images (normalize, grayscale, etc.)\n",
    "- Besides, we will **enhance our dataset** by implementing dataset augmentation\n",
    "- Then, we will proceed to the **design** of our deep learning model by taking inspiration in the LeNet architecture\n",
    "- Eventually, we will **measure the performance** of our model"
   ]
  },
  {
   "cell_type": "markdown",
   "metadata": {},
   "source": [
    "### 4.i. Pre-process the images"
   ]
  },
  {
   "cell_type": "markdown",
   "metadata": {},
   "source": [
    "In this step, we want to pre-process the image data. They are several transformation we can implement : normalization, grayscale, etc. We will implement several of them below."
   ]
  },
  {
   "cell_type": "code",
   "execution_count": 80,
   "metadata": {},
   "outputs": [],
   "source": [
    "def normalize(img):\n",
    "    return (img - np.mean(img))/np.std(img)"
   ]
  },
  {
   "cell_type": "code",
   "execution_count": 81,
   "metadata": {},
   "outputs": [],
   "source": [
    "def gray_scale(img):\n",
    "    return cv2.cvtColor(img, cv2.COLOR_BGR2GRAY)"
   ]
  },
  {
   "cell_type": "code",
   "execution_count": 82,
   "metadata": {},
   "outputs": [],
   "source": [
    "def pre_process_img(img):\n",
    "    img_1 = normalize(img)\n",
    "    img_2 = gray_scale(img)\n",
    "    return img_2"
   ]
  },
  {
   "cell_type": "code",
   "execution_count": 83,
   "metadata": {},
   "outputs": [],
   "source": [
    "X_train = np.array([pre_process_img(img) for img in list(X_train)])\n",
    "X_valid = np.array([pre_process_img(img) for img in list(X_valid)])\n",
    "X_test = np.array([pre_process_img(img) for img in list(X_test)])"
   ]
  },
  {
   "cell_type": "code",
   "execution_count": 84,
   "metadata": {},
   "outputs": [],
   "source": [
    "demo_images_preprocessed = [pre_process_img(img) for img in demo_images]"
   ]
  },
  {
   "cell_type": "code",
   "execution_count": 85,
   "metadata": {},
   "outputs": [
    {
     "data": {
      "image/png": "[encoded data removed]",
      "text/plain": [
       "<matplotlib.figure.Figure at 0x12a120ba8>"
      ]
     },
     "metadata": {},
     "output_type": "display_data"
    }
   ],
   "source": [
    "show_images(demo_images_preprocessed, 2, 3, labels=demo_labels)"
   ]
  },
  {
   "cell_type": "code",
   "execution_count": 86,
   "metadata": {},
   "outputs": [],
   "source": [
    "X_train = X_train[:,:,:,np.newaxis]\n",
    "X_valid = X_valid[:,:,:,np.newaxis]\n",
    "X_test = X_test[:,:,:,np.newaxis]"
   ]
  },
  {
   "cell_type": "markdown",
   "metadata": {},
   "source": [
    "### 4.iI. Augment the dataset"
   ]
  },
  {
   "cell_type": "markdown",
   "metadata": {},
   "source": [
    "Xxx"
   ]
  },
  {
   "cell_type": "code",
   "execution_count": 103,
   "metadata": {},
   "outputs": [],
   "source": [
    "class AugmentationEffect:\n",
    "\n",
    "    def translate(self, img):\n",
    "        x, y, z = img.shape\n",
    "        max_px = 0.2\n",
    "        dx = np.random.uniform(-max_px * x, max_px * x)\n",
    "        dy = np.random.uniform(-max_px * y, max_px * y)\n",
    "        translated_matrix = np.float32([[1, 0, dx], [0, 1, dy]])\n",
    "        translated_img = cv2.warpAffine(img, translated_matrix, (x, y))\n",
    "        return translated_img\n",
    "    \n",
    "    def scale(self, img):   \n",
    "        x, y, z = img.shape\n",
    "        max_scale = np.random.randint(-2,2)\n",
    "        # ending locations\n",
    "        pts1 = np.float32([[max_scale, max_scale], [x - max_scale, max_scale], [max_scale, y - max_scale], [x - max_scale, y - max_scale]])\n",
    "        # starting locations (4 corners)\n",
    "        pts2 = np.float32([[0,0],[x,0],[0,y],[x,y]])\n",
    "        M = cv2.getPerspectiveTransform(pts1,pts2)\n",
    "        scaled_img = cv2.warpPerspective(img,M,(x,y))\n",
    "        return scaled_img\n",
    "\n",
    "    def rotate(self, img):\n",
    "        x, y, z = img.shape\n",
    "        angle = np.random.uniform(-60, 60)\n",
    "        rotation_center = (x / 2, y / 2)\n",
    "        rotation_matrix = cv2.getRotationMatrix2D(rotation_center, angle, 1)\n",
    "        rotated_img = cv2.warpAffine(img, rotation_matrix, (x, y))\n",
    "        return rotated_img\n",
    "\n",
    "    def blur(self, img):\n",
    "        r_int = np.random.randint(0, 2)\n",
    "        odd_size = 2 * r_int + 1\n",
    "        return cv2.GaussianBlur(img, (odd_size, odd_size), 0)\n",
    "    \n",
    "    def run_random"
   ]
  },
  {
   "cell_type": "code",
   "execution_count": 104,
   "metadata": {},
   "outputs": [],
   "source": [
    "AE = AugmentationEffect()"
   ]
  },
  {
   "cell_type": "code",
   "execution_count": 100,
   "metadata": {},
   "outputs": [
    {
     "data": {
      "image/png": "[encoded data removed]",
      "text/plain": [
       "<matplotlib.figure.Figure at 0x12a30d470>"
      ]
     },
     "metadata": {},
     "output_type": "display_data"
    }
   ],
   "source": [
    "demo_images_translated = [AE.translate(img) for img in demo_images]\n",
    "show_images(demo_images_translated, 2, 3, labels=demo_labels)"
   ]
  },
  {
   "cell_type": "code",
   "execution_count": 101,
   "metadata": {},
   "outputs": [
    {
     "data": {
      "image/png": "[encoded data removed]",
      "text/plain": [
       "<matplotlib.figure.Figure at 0x12aa6b6a0>"
      ]
     },
     "metadata": {},
     "output_type": "display_data"
    }
   ],
   "source": [
    "demo_images_rotated = [AE.rotate(img) for img in demo_images]\n",
    "show_images(demo_images_rotated, 2, 3, labels=demo_labels)"
   ]
  },
  {
   "cell_type": "code",
   "execution_count": 105,
   "metadata": {},
   "outputs": [
    {
     "data": {
      "image/png": "[encoded data removed]",
      "text/plain": [
       "<matplotlib.figure.Figure at 0x12a925550>"
      ]
     },
     "metadata": {},
     "output_type": "display_data"
    }
   ],
   "source": [
    "demo_images_scaled = [AE.scale(img) for img in demo_images]\n",
    "show_images(demo_images_scaled, 2, 3, labels=demo_labels)"
   ]
  },
  {
   "cell_type": "code",
   "execution_count": 107,
   "metadata": {},
   "outputs": [
    {
     "data": {
      "image/png": "[encoded data removed]",
      "text/plain": [
       "<matplotlib.figure.Figure at 0x104bce080>"
      ]
     },
     "metadata": {},
     "output_type": "display_data"
    }
   ],
   "source": [
    "demo_images_blurred = [AE.blur(img) for img in demo_images]\n",
    "show_images(demo_images_blurred, 2, 3, labels=demo_labels)"
   ]
  },
  {
   "cell_type": "markdown",
   "metadata": {},
   "source": [
    "Now that we introduced multiple transformations that we can use to augment our dataset, let us use them to balance our dataset. Let us bring the number of training examples to 1000 per class."
   ]
  },
  {
   "cell_type": "code",
   "execution_count": null,
   "metadata": {},
   "outputs": [],
   "source": [
    "class AugmentDataset:\n",
    "    \n",
    "    def __init__(self, data_path): \n",
    "        self.train_data = self.load_data(data_path)\n",
    "        self.ae = AugmentationEffect()\n",
    "\n",
    "        self.X_train = self.train_data['features']\n",
    "        self.y_train = self.train_data['labels']   \n",
    "\n",
    "    def load_data(self, data_path):\n",
    "        training_file = os.path.join(data_path, \"train.p\")\n",
    "        with open(training_file, 'rb') as f:\n",
    "            train = pickle.load(f)\n",
    "        return train\n",
    "    \n",
    "    def save_data(self, data_path, data):\n",
    "        output_file = os.path.join(data_path, \"train_new.p\")\n",
    "        with open(output_path, 'wb') as f:\n",
    "            pickle.dump(data , f).write()\n",
    "        return True\n",
    "    \n",
    "    def run(self):\n",
    "        \n",
    "        n_labels = len(set(self.y_train))\n",
    "        ts, imgs_per_sign = np.unique(self.y_train, return_counts=True)\n",
    "        avg_image_per_class = round(np.mean(imgs_per_sign))\n",
    "        \n",
    "        new_images = []\n",
    "        new_labels = []\n",
    "        \n",
    "        for label in range(n_labels):\n",
    "            print('Augmenting class # : ' + str(label))\n",
    "            #count_examples = np.sum(y_train == label)\n",
    "            count_to_add = round(avg_image_per_class - count_examples)\n",
    "            if count_to_add < 0 :\n",
    "                print('No augmentation needed.')\n",
    "            else:\n",
    "                img_label_bool = y_train == i\n",
    "                X_train_label = X_train[img_label_bool]\n",
    "                print(X_train_label)"
   ]
  },
  {
   "cell_type": "code",
   "execution_count": 153,
   "metadata": {},
   "outputs": [
    {
     "name": "stdout",
     "output_type": "stream",
     "text": [
      "Augmenting class # : 0\n",
      "[[[[ 83  82  78]\n",
      "   [ 83  83  79]\n",
      "   [ 83  83  78]\n",
      "   ..., \n",
      "   [ 85  87  80]\n",
      "   [ 84  85  78]\n",
      "   [ 82  82  76]]\n",
      "\n",
      "  [[ 82  81  77]\n",
      "   [ 81  81  78]\n",
      "   [ 82  82  78]\n",
      "   ..., \n",
      "   [ 96  90  85]\n",
      "   [ 88  84  74]\n",
      "   [ 82  81  73]]\n",
      "\n",
      "  [[ 82  81  78]\n",
      "   [ 81  81  77]\n",
      "   [ 80  81  75]\n",
      "   ..., \n",
      "   [105  91  83]\n",
      "   [ 91  82  77]\n",
      "   [ 84  82  77]]\n",
      "\n",
      "  ..., \n",
      "  [[ 72  72  70]\n",
      "   [ 72  71  69]\n",
      "   [ 73  71  70]\n",
      "   ..., \n",
      "   [ 66  68  65]\n",
      "   [ 65  66  64]\n",
      "   [ 66  66  64]]\n",
      "\n",
      "  [[ 68  69  68]\n",
      "   [ 69  68  66]\n",
      "   [ 71  68  67]\n",
      "   ..., \n",
      "   [ 65  68  66]\n",
      "   [ 65  66  64]\n",
      "   [ 67  66  65]]\n",
      "\n",
      "  [[ 67  67  67]\n",
      "   [ 68  68  67]\n",
      "   [ 69  70  69]\n",
      "   ..., \n",
      "   [ 67  68  66]\n",
      "   [ 65  65  63]\n",
      "   [ 68  67  66]]]\n",
      "\n",
      "\n",
      " [[[209 205 227]\n",
      "   [203 190 213]\n",
      "   [198 193 198]\n",
      "   ..., \n",
      "   [255 255 255]\n",
      "   [255 255 255]\n",
      "   [255 255 255]]\n",
      "\n",
      "  [[248 240 246]\n",
      "   [242 231 243]\n",
      "   [177 185 210]\n",
      "   ..., \n",
      "   [255 255 255]\n",
      "   [255 255 255]\n",
      "   [255 255 255]]\n",
      "\n",
      "  [[255 255 255]\n",
      "   [249 250 252]\n",
      "   [184 194 220]\n",
      "   ..., \n",
      "   [255 255 255]\n",
      "   [255 255 255]\n",
      "   [255 255 255]]\n",
      "\n",
      "  ..., \n",
      "  [[142 149 126]\n",
      "   [237 242 196]\n",
      "   [255 255 216]\n",
      "   ..., \n",
      "   [255 255 248]\n",
      "   [255 255 250]\n",
      "   [255 255 248]]\n",
      "\n",
      "  [[125 136 119]\n",
      "   [237 244 201]\n",
      "   [255 255 223]\n",
      "   ..., \n",
      "   [255 255 249]\n",
      "   [255 255 250]\n",
      "   [255 255 247]]\n",
      "\n",
      "  [[118 129 125]\n",
      "   [238 246 207]\n",
      "   [255 255 227]\n",
      "   ..., \n",
      "   [255 255 249]\n",
      "   [255 255 247]\n",
      "   [255 255 247]]]\n",
      "\n",
      "\n",
      " [[[255 255 255]\n",
      "   [255 255 255]\n",
      "   [255 255 255]\n",
      "   ..., \n",
      "   [255 255 255]\n",
      "   [255 255 255]\n",
      "   [255 255 255]]\n",
      "\n",
      "  [[255 255 255]\n",
      "   [255 255 255]\n",
      "   [255 255 255]\n",
      "   ..., \n",
      "   [255 255 255]\n",
      "   [255 255 255]\n",
      "   [255 255 255]]\n",
      "\n",
      "  [[255 255 255]\n",
      "   [255 255 255]\n",
      "   [255 255 255]\n",
      "   ..., \n",
      "   [255 255 255]\n",
      "   [255 255 255]\n",
      "   [255 255 255]]\n",
      "\n",
      "  ..., \n",
      "  [[ 50  59  68]\n",
      "   [ 71  64  71]\n",
      "   [161 138 108]\n",
      "   ..., \n",
      "   [255 255 251]\n",
      "   [255 255 250]\n",
      "   [255 255 251]]\n",
      "\n",
      "  [[ 49  58  68]\n",
      "   [ 71  64  72]\n",
      "   [160 135 107]\n",
      "   ..., \n",
      "   [255 255 251]\n",
      "   [255 255 250]\n",
      "   [255 255 249]]\n",
      "\n",
      "  [[ 41  49  55]\n",
      "   [ 64  55  58]\n",
      "   [156 131  97]\n",
      "   ..., \n",
      "   [255 255 250]\n",
      "   [255 255 250]\n",
      "   [255 255 249]]]\n",
      "\n",
      "\n",
      " ..., \n",
      " [[[255 255 255]\n",
      "   [255 255 255]\n",
      "   [255 254 255]\n",
      "   ..., \n",
      "   [255 255 255]\n",
      "   [255 255 255]\n",
      "   [255 255 255]]\n",
      "\n",
      "  [[255 255 255]\n",
      "   [255 255 255]\n",
      "   [255 255 255]\n",
      "   ..., \n",
      "   [255 255 255]\n",
      "   [255 255 255]\n",
      "   [255 255 253]]\n",
      "\n",
      "  [[191 202 230]\n",
      "   [248 249 254]\n",
      "   [255 255 255]\n",
      "   ..., \n",
      "   [255 255 255]\n",
      "   [255 255 254]\n",
      "   [255 255 250]]\n",
      "\n",
      "  ..., \n",
      "  [[ 67  54  58]\n",
      "   [169 138 104]\n",
      "   [249 245 197]\n",
      "   ..., \n",
      "   [255 255 253]\n",
      "   [255 255 254]\n",
      "   [255 255 254]]\n",
      "\n",
      "  [[ 64  50  53]\n",
      "   [166 137 102]\n",
      "   [248 245 198]\n",
      "   ..., \n",
      "   [255 255 255]\n",
      "   [255 255 255]\n",
      "   [255 255 255]]\n",
      "\n",
      "  [[ 57  47  47]\n",
      "   [157 135 103]\n",
      "   [246 244 198]\n",
      "   ..., \n",
      "   [255 255 253]\n",
      "   [255 255 254]\n",
      "   [255 255 255]]]\n",
      "\n",
      "\n",
      " [[[254 229 228]\n",
      "   [255 255 255]\n",
      "   [255 255 255]\n",
      "   ..., \n",
      "   [255 255 255]\n",
      "   [255 255 255]\n",
      "   [255 255 255]]\n",
      "\n",
      "  [[254 231 230]\n",
      "   [255 255 255]\n",
      "   [255 255 255]\n",
      "   ..., \n",
      "   [255 255 255]\n",
      "   [255 255 255]\n",
      "   [255 255 255]]\n",
      "\n",
      "  [[254 232 230]\n",
      "   [255 255 255]\n",
      "   [255 255 255]\n",
      "   ..., \n",
      "   [255 255 255]\n",
      "   [255 255 255]\n",
      "   [255 255 255]]\n",
      "\n",
      "  ..., \n",
      "  [[133 131 160]\n",
      "   [ 71  80 105]\n",
      "   [ 58  71  94]\n",
      "   ..., \n",
      "   [146 149 152]\n",
      "   [154 154 161]\n",
      "   [150 153 162]]\n",
      "\n",
      "  [[130 128 157]\n",
      "   [ 71  77 102]\n",
      "   [ 81  82 101]\n",
      "   ..., \n",
      "   [146 146 149]\n",
      "   [152 153 159]\n",
      "   [145 149 158]]\n",
      "\n",
      "  [[130 129 158]\n",
      "   [ 73  77 102]\n",
      "   [ 75  71  89]\n",
      "   ..., \n",
      "   [144 144 148]\n",
      "   [149 150 157]\n",
      "   [144 147 156]]]\n",
      "\n",
      "\n",
      " [[[255 255 255]\n",
      "   [255 255 255]\n",
      "   [255 255 255]\n",
      "   ..., \n",
      "   [255 255 255]\n",
      "   [255 255 255]\n",
      "   [255 255 255]]\n",
      "\n",
      "  [[253 255 255]\n",
      "   [255 255 255]\n",
      "   [255 255 255]\n",
      "   ..., \n",
      "   [255 255 255]\n",
      "   [255 255 255]\n",
      "   [255 255 255]]\n",
      "\n",
      "  [[224 230 236]\n",
      "   [255 255 255]\n",
      "   [255 255 255]\n",
      "   ..., \n",
      "   [255 255 255]\n",
      "   [255 255 255]\n",
      "   [255 255 255]]\n",
      "\n",
      "  ..., \n",
      "  [[255 254 208]\n",
      "   [255 255 214]\n",
      "   [255 255 220]\n",
      "   ..., \n",
      "   [255 255 247]\n",
      "   [255 255 247]\n",
      "   [255 255 246]]\n",
      "\n",
      "  [[255 255 219]\n",
      "   [255 255 223]\n",
      "   [255 255 229]\n",
      "   ..., \n",
      "   [255 255 248]\n",
      "   [255 255 248]\n",
      "   [255 255 247]]\n",
      "\n",
      "  [[255 255 226]\n",
      "   [255 255 229]\n",
      "   [255 255 233]\n",
      "   ..., \n",
      "   [255 255 245]\n",
      "   [255 255 248]\n",
      "   [255 255 245]]]]\n"
     ]
    }
   ],
   "source": [
    "#n_labels = len(set(self.y_train))\n",
    "ts, imgs_per_sign = np.unique(y_train, return_counts=True)\n",
    "avg_image_per_class = round(np.mean(imgs_per_sign))\n",
    "\n",
    "new_images = []\n",
    "new_labels = []\n",
    "\n",
    "for label in range(1):\n",
    "    print('Augmenting class # : ' + str(label) + ' - ' + )\n",
    "    count_examples = np.sum(y_train == label)\n",
    "    count_to_add = round(avg_image_per_class - count_examples)\n",
    "    if count_to_add < 0 :\n",
    "        print('No augmentation needed.')\n",
    "    else:\n",
    "        img_label_bool = y_train == label\n",
    "        X_train_label = X_train[img_label_bool]\n",
    "        print(X_train_label)"
   ]
  },
  {
   "cell_type": "code",
   "execution_count": 126,
   "metadata": {},
   "outputs": [
    {
     "data": {
      "text/plain": [
       "array([[[[ 42],\n",
       "         [ 61],\n",
       "         [ 63],\n",
       "         ..., \n",
       "         [ 18],\n",
       "         [ 18],\n",
       "         [ 17]],\n",
       "\n",
       "        [[ 38],\n",
       "         [ 49],\n",
       "         [ 50],\n",
       "         ..., \n",
       "         [ 17],\n",
       "         [ 19],\n",
       "         [ 18]],\n",
       "\n",
       "        [[ 33],\n",
       "         [ 40],\n",
       "         [ 37],\n",
       "         ..., \n",
       "         [ 16],\n",
       "         [ 19],\n",
       "         [ 19]],\n",
       "\n",
       "        ..., \n",
       "        [[ 21],\n",
       "         [ 36],\n",
       "         [ 23],\n",
       "         ..., \n",
       "         [ 13],\n",
       "         [ 13],\n",
       "         [ 12]],\n",
       "\n",
       "        [[ 21],\n",
       "         [ 37],\n",
       "         [ 22],\n",
       "         ..., \n",
       "         [ 14],\n",
       "         [ 12],\n",
       "         [ 12]],\n",
       "\n",
       "        [[ 22],\n",
       "         [ 36],\n",
       "         [ 21],\n",
       "         ..., \n",
       "         [ 12],\n",
       "         [ 12],\n",
       "         [ 12]]],\n",
       "\n",
       "\n",
       "       [[[ 49],\n",
       "         [ 51],\n",
       "         [ 55],\n",
       "         ..., \n",
       "         [ 22],\n",
       "         [ 23],\n",
       "         [ 24]],\n",
       "\n",
       "        [[ 53],\n",
       "         [ 53],\n",
       "         [ 52],\n",
       "         ..., \n",
       "         [ 22],\n",
       "         [ 23],\n",
       "         [ 23]],\n",
       "\n",
       "        [[ 51],\n",
       "         [ 50],\n",
       "         [ 48],\n",
       "         ..., \n",
       "         [ 25],\n",
       "         [ 25],\n",
       "         [ 24]],\n",
       "\n",
       "        ..., \n",
       "        [[ 47],\n",
       "         [ 42],\n",
       "         [ 38],\n",
       "         ..., \n",
       "         [ 27],\n",
       "         [ 26],\n",
       "         [ 26]],\n",
       "\n",
       "        [[ 38],\n",
       "         [ 37],\n",
       "         [ 36],\n",
       "         ..., \n",
       "         [ 23],\n",
       "         [ 23],\n",
       "         [ 24]],\n",
       "\n",
       "        [[ 33],\n",
       "         [ 34],\n",
       "         [ 35],\n",
       "         ..., \n",
       "         [ 24],\n",
       "         [ 24],\n",
       "         [ 25]]],\n",
       "\n",
       "\n",
       "       [[[154],\n",
       "         [153],\n",
       "         [151],\n",
       "         ..., \n",
       "         [138],\n",
       "         [139],\n",
       "         [141]],\n",
       "\n",
       "        [[156],\n",
       "         [156],\n",
       "         [153],\n",
       "         ..., \n",
       "         [140],\n",
       "         [141],\n",
       "         [144]],\n",
       "\n",
       "        [[157],\n",
       "         [156],\n",
       "         [153],\n",
       "         ..., \n",
       "         [143],\n",
       "         [145],\n",
       "         [144]],\n",
       "\n",
       "        ..., \n",
       "        [[144],\n",
       "         [143],\n",
       "         [142],\n",
       "         ..., \n",
       "         [ 57],\n",
       "         [ 46],\n",
       "         [ 38]],\n",
       "\n",
       "        [[144],\n",
       "         [143],\n",
       "         [143],\n",
       "         ..., \n",
       "         [ 65],\n",
       "         [ 52],\n",
       "         [ 45]],\n",
       "\n",
       "        [[143],\n",
       "         [142],\n",
       "         [143],\n",
       "         ..., \n",
       "         [ 69],\n",
       "         [ 57],\n",
       "         [ 48]]],\n",
       "\n",
       "\n",
       "       ..., \n",
       "       [[[255],\n",
       "         [255],\n",
       "         [255],\n",
       "         ..., \n",
       "         [240],\n",
       "         [235],\n",
       "         [242]],\n",
       "\n",
       "        [[255],\n",
       "         [255],\n",
       "         [255],\n",
       "         ..., \n",
       "         [236],\n",
       "         [236],\n",
       "         [236]],\n",
       "\n",
       "        [[255],\n",
       "         [255],\n",
       "         [255],\n",
       "         ..., \n",
       "         [232],\n",
       "         [234],\n",
       "         [235]],\n",
       "\n",
       "        ..., \n",
       "        [[178],\n",
       "         [181],\n",
       "         [181],\n",
       "         ..., \n",
       "         [118],\n",
       "         [113],\n",
       "         [114]],\n",
       "\n",
       "        [[181],\n",
       "         [177],\n",
       "         [177],\n",
       "         ..., \n",
       "         [114],\n",
       "         [113],\n",
       "         [112]],\n",
       "\n",
       "        [[187],\n",
       "         [175],\n",
       "         [172],\n",
       "         ..., \n",
       "         [110],\n",
       "         [109],\n",
       "         [110]]],\n",
       "\n",
       "\n",
       "       [[[ 20],\n",
       "         [ 19],\n",
       "         [ 20],\n",
       "         ..., \n",
       "         [ 31],\n",
       "         [ 21],\n",
       "         [ 19]],\n",
       "\n",
       "        [[ 19],\n",
       "         [ 19],\n",
       "         [ 17],\n",
       "         ..., \n",
       "         [ 31],\n",
       "         [ 21],\n",
       "         [ 20]],\n",
       "\n",
       "        [[ 21],\n",
       "         [ 20],\n",
       "         [ 17],\n",
       "         ..., \n",
       "         [ 30],\n",
       "         [ 20],\n",
       "         [ 19]],\n",
       "\n",
       "        ..., \n",
       "        [[ 16],\n",
       "         [ 17],\n",
       "         [ 17],\n",
       "         ..., \n",
       "         [ 16],\n",
       "         [ 18],\n",
       "         [ 20]],\n",
       "\n",
       "        [[ 15],\n",
       "         [ 15],\n",
       "         [ 15],\n",
       "         ..., \n",
       "         [ 15],\n",
       "         [ 18],\n",
       "         [ 17]],\n",
       "\n",
       "        [[ 16],\n",
       "         [ 16],\n",
       "         [ 15],\n",
       "         ..., \n",
       "         [ 15],\n",
       "         [ 17],\n",
       "         [ 16]]],\n",
       "\n",
       "\n",
       "       [[[ 60],\n",
       "         [ 61],\n",
       "         [ 63],\n",
       "         ..., \n",
       "         [ 69],\n",
       "         [ 61],\n",
       "         [ 57]],\n",
       "\n",
       "        [[ 58],\n",
       "         [ 64],\n",
       "         [ 76],\n",
       "         ..., \n",
       "         [ 73],\n",
       "         [ 70],\n",
       "         [ 65]],\n",
       "\n",
       "        [[ 57],\n",
       "         [ 66],\n",
       "         [ 76],\n",
       "         ..., \n",
       "         [ 64],\n",
       "         [ 68],\n",
       "         [ 61]],\n",
       "\n",
       "        ..., \n",
       "        [[ 62],\n",
       "         [ 61],\n",
       "         [ 59],\n",
       "         ..., \n",
       "         [ 53],\n",
       "         [ 53],\n",
       "         [ 57]],\n",
       "\n",
       "        [[ 57],\n",
       "         [ 60],\n",
       "         [ 60],\n",
       "         ..., \n",
       "         [ 60],\n",
       "         [ 55],\n",
       "         [ 60]],\n",
       "\n",
       "        [[ 55],\n",
       "         [ 60],\n",
       "         [ 62],\n",
       "         ..., \n",
       "         [ 65],\n",
       "         [ 59],\n",
       "         [ 61]]]], dtype=uint8)"
      ]
     },
     "execution_count": 126,
     "metadata": {},
     "output_type": "execute_result"
    }
   ],
   "source": [
    "X_train"
   ]
  },
  {
   "cell_type": "markdown",
   "metadata": {},
   "source": [
    "### 4.iii. Model Architecture"
   ]
  },
  {
   "cell_type": "markdown",
   "metadata": {},
   "source": [
    "In this example, we will implement the [LeNet-5](http://yann.lecun.com/exdb/lenet/) neural network architecture. We will describe below all the details of the model architecture."
   ]
  },
  {
   "cell_type": "markdown",
   "metadata": {
    "collapsed": true
   },
   "source": [
    "#### Inputs\n",
    "\n",
    "The number of color channels here is `3`. If we decide to grayscale, the number of channels will be reduced to `1`. The LeNet architecture accepts a 32x32xC image as input, where C is the number of color channels.\n",
    "\n",
    "#### Outputs\n",
    "\n",
    "The number of classes to label is 43. Hence the length of Logits layer will be 43.\n",
    "\n",
    "#### Architecture :  5 Layers (CONV-POOL, CONV-POOL, FC, FC, FC)\n",
    "\n",
    "**Layer 1: Convolutional.** The output shape should be 28x28x6.\n",
    "**Activation.** RELU.\n",
    "**Pooling.** The output shape should be 14x14x6.\n",
    "\n",
    "**Layer 2: Convolutional.** The output shape should be 10x10x16.\n",
    "**Activation.** RELU.\n",
    "**Pooling.** The output shape should be 5x5x16.\n",
    "**Flatten.** Flatten the output shape of the final pooling layer such that it's 1D instead of 3D.\n",
    "\n",
    "**Layer 3: Fully Connected.** This should have 120 outputs.\n",
    "**Activation.** RELU.\n",
    "\n",
    "**Layer 4: Fully Connected.** This should have 84 outputs.\n",
    "**Activation.** RELU.\n",
    "\n",
    "**Layer 5: Fully Connected (Logits).** This should have 43 outputs."
   ]
  },
  {
   "cell_type": "code",
   "execution_count": 38,
   "metadata": {},
   "outputs": [],
   "source": [
    "import tensorflow as tf\n",
    "from tensorflow.contrib.layers import flatten"
   ]
  },
  {
   "cell_type": "markdown",
   "metadata": {},
   "source": [
    "Let's define here the basic **CONV** and **POOL** layers that we will use multiple times : "
   ]
  },
  {
   "cell_type": "code",
   "execution_count": 39,
   "metadata": {},
   "outputs": [],
   "source": [
    "def conv2d(x, weights, biases, strides=1, padding='VALID'):\n",
    "    conv = tf.nn.conv2d(x, weights, strides=[1, strides, strides, 1], padding=padding)\n",
    "    conv = tf.add(conv, biases)\n",
    "    return conv\n",
    "\n",
    "def maxpool2d(x, k=2, padding='VALID'):\n",
    "    return tf.nn.max_pool(x, ksize=[1, k, k, 1], strides=[1, k, k, 1], padding=padding)"
   ]
  },
  {
   "cell_type": "code",
   "execution_count": 40,
   "metadata": {},
   "outputs": [],
   "source": [
    "def LeNet(x):    \n",
    "    # Arguments used for tf.truncated_normal, randomly defines variables for the weights and biases for each layer\n",
    "    mu = 0\n",
    "    sigma = 0.1\n",
    "    \n",
    "    ########################## LAYER 1\n",
    "    \n",
    "    w_1 = tf.Variable(tf.truncated_normal(shape=(5, 5, 1, 6), mean = mu, stddev = sigma))\n",
    "    b_1 = tf.Variable(tf.zeros(6))\n",
    "    \n",
    "    conv1 = conv2d(x, w_1, b_1, strides=1) # Convolution. Input = 32x32x3. Output = 28x28x6.\n",
    "    conv1 = tf.nn.relu(conv1) # Activation\n",
    "    conv1 = maxpool2d(conv1, k=2) # Pooling. Input = 28x28x6. Output = 14x14x6.\n",
    "    \n",
    "    ########################## LAYER 2\n",
    "    \n",
    "    w_2 = tf.Variable(tf.truncated_normal(shape=(5, 5, 6, 16), mean = mu, stddev = sigma))\n",
    "    b_2 = tf.Variable(tf.zeros(16))\n",
    "    \n",
    "    conv2 = conv2d(conv1, w_2, b_2, strides=1) # Convolution. Input = 14x14x16. Output = 10x10x16.\n",
    "    conv2 = tf.nn.relu(conv2) # Activation\n",
    "    conv2 = maxpool2d(conv2, k=2) # Pooling. Input = 10x10x16. Output = 5x5x16.\n",
    "\n",
    "    fc0   = flatten(conv2) # Flatten. Input = 5x5x16. Output = 400.\n",
    "    \n",
    "    ########################## LAYER 3\n",
    "    \n",
    "    fc1_W = tf.Variable(tf.truncated_normal(shape=(400, 120), mean = mu, stddev = sigma))\n",
    "    fc1_b = tf.Variable(tf.zeros(120))\n",
    "    \n",
    "    fc1   = tf.matmul(fc0, fc1_W) + fc1_b # Fully Connected. Input = 400. Output = 120.\n",
    "    \n",
    "    fc1    = tf.nn.relu(fc1) # Activation.\n",
    "    \n",
    "    ########################## LAYER 4\n",
    "\n",
    "    fc2_W  = tf.Variable(tf.truncated_normal(shape=(120, 84), mean = mu, stddev = sigma))\n",
    "    fc2_b  = tf.Variable(tf.zeros(84))\n",
    "    \n",
    "    fc2    = tf.matmul(fc1, fc2_W) + fc2_b # Fully Connected. Input = 120. Output = 84.\n",
    "    \n",
    "    fc2    = tf.nn.relu(fc2) # Activation.\n",
    "    \n",
    "    ########################## LAYER 5\n",
    "\n",
    "    fc3_W  = tf.Variable(tf.truncated_normal(shape=(84, 43), mean = mu, stddev = sigma))\n",
    "    fc3_b  = tf.Variable(tf.zeros(43))\n",
    "    \n",
    "    logits = tf.matmul(fc2, fc3_W) + fc3_b # Fully Connected. Input = 84. Output = 43.\n",
    "    \n",
    "    return logits"
   ]
  },
  {
   "cell_type": "markdown",
   "metadata": {},
   "source": [
    "### 4.iii. Training and Evaluation Pipelines"
   ]
  },
  {
   "cell_type": "markdown",
   "metadata": {},
   "source": [
    "In this section, we define the inputs (features = images) and outputs (labels = categories) for the tensorflow model :\n",
    "    \n",
    "- `x` is a placeholder for a batch of input images.\n",
    "- `y` is a placeholder for a batch of output labels."
   ]
  },
  {
   "cell_type": "code",
   "execution_count": 41,
   "metadata": {},
   "outputs": [],
   "source": [
    "x = tf.placeholder(tf.float32, (None, 32, 32, 1))\n",
    "y = tf.placeholder(tf.int32, (None))\n",
    "keep_prob = tf.placeholder(tf.float32)\n",
    "one_hot_y = tf.one_hot(y, 43)"
   ]
  },
  {
   "cell_type": "markdown",
   "metadata": {},
   "source": [
    "A validation set can be used to assess how well the model is performing. A low accuracy on the training and validation\n",
    "sets imply underfitting. A high accuracy on the training set but low accuracy on the validation set implies overfitting."
   ]
  },
  {
   "cell_type": "markdown",
   "metadata": {},
   "source": [
    "The `RATE`, `EPOCH` and `BATCH_SIZE` values affect the training speed and model accuracy."
   ]
  },
  {
   "cell_type": "code",
   "execution_count": 42,
   "metadata": {},
   "outputs": [],
   "source": [
    "RATE = 0.001\n",
    "EPOCHS = 50\n",
    "BATCH_SIZE = 128"
   ]
  },
  {
   "cell_type": "code",
   "execution_count": 43,
   "metadata": {},
   "outputs": [],
   "source": [
    "logits = LeNet(x)\n",
    "cross_entropy = tf.nn.softmax_cross_entropy_with_logits(labels=one_hot_y, logits=logits)\n",
    "loss_operation = tf.reduce_mean(cross_entropy)\n",
    "optimizer = tf.train.AdamOptimizer(learning_rate = RATE)\n",
    "training_operation = optimizer.minimize(loss_operation)"
   ]
  },
  {
   "cell_type": "markdown",
   "metadata": {},
   "source": [
    "For the evaluation, we will use the following function to compute the acuuracy of the trained model :"
   ]
  },
  {
   "cell_type": "code",
   "execution_count": 44,
   "metadata": {},
   "outputs": [],
   "source": [
    "correct_prediction = tf.equal(tf.argmax(logits, 1), tf.argmax(one_hot_y, 1))\n",
    "accuracy_operation = tf.reduce_mean(tf.cast(correct_prediction, tf.float32))\n",
    "saver = tf.train.Saver()"
   ]
  },
  {
   "cell_type": "code",
   "execution_count": 45,
   "metadata": {},
   "outputs": [],
   "source": [
    "def evaluate(X_data, y_data):\n",
    "    num_examples = len(X_data)\n",
    "    total_accuracy = 0\n",
    "    sess = tf.get_default_session()\n",
    "    for offset in range(0, num_examples, BATCH_SIZE):\n",
    "        batch_x, batch_y = X_data[offset:offset+BATCH_SIZE], y_data[offset:offset+BATCH_SIZE]\n",
    "        accuracy = sess.run(accuracy_operation, feed_dict={x: batch_x, y: batch_y})\n",
    "        total_accuracy += (accuracy * len(batch_x))\n",
    "    return total_accuracy / num_examples"
   ]
  },
  {
   "cell_type": "markdown",
   "metadata": {},
   "source": [
    "### 4.iv. Train and Validate the Model"
   ]
  },
  {
   "cell_type": "markdown",
   "metadata": {},
   "source": [
    "This section will run the training data through the training pipeline to train the model. It follows multiple steps :\n",
    "\n",
    "- Before each epoch, shuffle the training set.\n",
    "- After each epoch, measure the loss and accuracy of the validation set.\n",
    "- Save the model after training."
   ]
  },
  {
   "cell_type": "code",
   "execution_count": 46,
   "metadata": {},
   "outputs": [
    {
     "name": "stdout",
     "output_type": "stream",
     "text": [
      "Training...\n",
      "\n",
      "EPOCH 1 ...\n",
      "Training Accuracy = 0.857\n",
      "Validation Accuracy = 0.766\n",
      "\n",
      "EPOCH 2 ...\n",
      "Training Accuracy = 0.932\n",
      "Validation Accuracy = 0.835\n",
      "\n",
      "EPOCH 3 ...\n",
      "Training Accuracy = 0.968\n",
      "Validation Accuracy = 0.883\n",
      "\n",
      "EPOCH 4 ...\n",
      "Training Accuracy = 0.971\n",
      "Validation Accuracy = 0.881\n",
      "\n",
      "EPOCH 5 ...\n",
      "Training Accuracy = 0.982\n",
      "Validation Accuracy = 0.896\n",
      "\n",
      "EPOCH 6 ...\n",
      "Training Accuracy = 0.986\n",
      "Validation Accuracy = 0.890\n",
      "\n",
      "EPOCH 7 ...\n",
      "Training Accuracy = 0.985\n",
      "Validation Accuracy = 0.905\n",
      "\n",
      "EPOCH 8 ...\n",
      "Training Accuracy = 0.986\n",
      "Validation Accuracy = 0.892\n",
      "\n",
      "EPOCH 9 ...\n",
      "Training Accuracy = 0.990\n",
      "Validation Accuracy = 0.909\n",
      "\n",
      "EPOCH 10 ...\n",
      "Training Accuracy = 0.988\n",
      "Validation Accuracy = 0.898\n",
      "\n",
      "EPOCH 11 ...\n",
      "Training Accuracy = 0.992\n",
      "Validation Accuracy = 0.897\n",
      "\n",
      "EPOCH 12 ...\n",
      "Training Accuracy = 0.992\n",
      "Validation Accuracy = 0.895\n",
      "\n",
      "EPOCH 13 ...\n",
      "Training Accuracy = 0.991\n",
      "Validation Accuracy = 0.897\n",
      "\n",
      "EPOCH 14 ...\n",
      "Training Accuracy = 0.993\n",
      "Validation Accuracy = 0.908\n",
      "\n",
      "EPOCH 15 ...\n",
      "Training Accuracy = 0.990\n",
      "Validation Accuracy = 0.896\n",
      "\n",
      "EPOCH 16 ...\n",
      "Training Accuracy = 0.985\n",
      "Validation Accuracy = 0.908\n",
      "\n",
      "EPOCH 17 ...\n",
      "Training Accuracy = 0.987\n",
      "Validation Accuracy = 0.891\n",
      "\n",
      "EPOCH 18 ...\n",
      "Training Accuracy = 0.995\n",
      "Validation Accuracy = 0.913\n",
      "\n",
      "EPOCH 19 ...\n",
      "Training Accuracy = 0.993\n",
      "Validation Accuracy = 0.907\n",
      "\n",
      "EPOCH 20 ...\n",
      "Training Accuracy = 0.993\n",
      "Validation Accuracy = 0.924\n",
      "\n",
      "EPOCH 21 ...\n",
      "Training Accuracy = 0.992\n",
      "Validation Accuracy = 0.921\n",
      "\n",
      "EPOCH 22 ...\n",
      "Training Accuracy = 0.993\n",
      "Validation Accuracy = 0.916\n",
      "\n",
      "EPOCH 23 ...\n",
      "Training Accuracy = 0.982\n",
      "Validation Accuracy = 0.903\n",
      "\n",
      "EPOCH 24 ...\n",
      "Training Accuracy = 0.996\n",
      "Validation Accuracy = 0.911\n",
      "\n",
      "EPOCH 25 ...\n",
      "Training Accuracy = 0.994\n",
      "Validation Accuracy = 0.908\n",
      "\n",
      "EPOCH 26 ...\n",
      "Training Accuracy = 0.990\n",
      "Validation Accuracy = 0.925\n",
      "\n",
      "EPOCH 27 ...\n",
      "Training Accuracy = 0.998\n",
      "Validation Accuracy = 0.927\n",
      "\n",
      "EPOCH 28 ...\n",
      "Training Accuracy = 0.990\n",
      "Validation Accuracy = 0.908\n",
      "\n",
      "EPOCH 29 ...\n",
      "Training Accuracy = 0.989\n",
      "Validation Accuracy = 0.908\n",
      "\n",
      "EPOCH 30 ...\n",
      "Training Accuracy = 0.989\n",
      "Validation Accuracy = 0.899\n",
      "\n",
      "EPOCH 31 ...\n",
      "Training Accuracy = 0.995\n",
      "Validation Accuracy = 0.927\n",
      "\n",
      "EPOCH 32 ...\n",
      "Training Accuracy = 0.997\n",
      "Validation Accuracy = 0.921\n",
      "\n",
      "EPOCH 33 ...\n",
      "Training Accuracy = 0.995\n",
      "Validation Accuracy = 0.915\n",
      "\n",
      "EPOCH 34 ...\n",
      "Training Accuracy = 0.997\n",
      "Validation Accuracy = 0.921\n",
      "\n",
      "EPOCH 35 ...\n",
      "Training Accuracy = 0.995\n",
      "Validation Accuracy = 0.921\n",
      "\n",
      "EPOCH 36 ...\n",
      "Training Accuracy = 0.993\n",
      "Validation Accuracy = 0.914\n",
      "\n",
      "EPOCH 37 ...\n",
      "Training Accuracy = 0.995\n",
      "Validation Accuracy = 0.927\n",
      "\n",
      "EPOCH 38 ...\n",
      "Training Accuracy = 0.996\n",
      "Validation Accuracy = 0.910\n",
      "\n",
      "EPOCH 39 ...\n",
      "Training Accuracy = 0.996\n",
      "Validation Accuracy = 0.935\n",
      "\n",
      "EPOCH 40 ...\n",
      "Training Accuracy = 0.997\n",
      "Validation Accuracy = 0.916\n",
      "\n",
      "EPOCH 41 ...\n",
      "Training Accuracy = 0.997\n",
      "Validation Accuracy = 0.923\n",
      "\n",
      "EPOCH 42 ...\n",
      "Training Accuracy = 0.979\n",
      "Validation Accuracy = 0.902\n",
      "\n",
      "EPOCH 43 ...\n",
      "Training Accuracy = 0.993\n",
      "Validation Accuracy = 0.922\n",
      "\n",
      "EPOCH 44 ...\n",
      "Training Accuracy = 0.997\n",
      "Validation Accuracy = 0.928\n",
      "\n",
      "EPOCH 45 ...\n",
      "Training Accuracy = 0.999\n",
      "Validation Accuracy = 0.934\n",
      "\n",
      "EPOCH 46 ...\n",
      "Training Accuracy = 0.996\n",
      "Validation Accuracy = 0.923\n",
      "\n",
      "EPOCH 47 ...\n",
      "Training Accuracy = 0.999\n",
      "Validation Accuracy = 0.936\n",
      "\n",
      "EPOCH 48 ...\n",
      "Training Accuracy = 0.999\n",
      "Validation Accuracy = 0.929\n",
      "\n",
      "EPOCH 49 ...\n",
      "Training Accuracy = 0.998\n",
      "Validation Accuracy = 0.934\n",
      "\n",
      "EPOCH 50 ...\n",
      "Training Accuracy = 0.999\n",
      "Validation Accuracy = 0.936\n",
      "\n",
      "Model saved\n"
     ]
    }
   ],
   "source": [
    "with tf.Session() as sess:\n",
    "    sess.run(tf.global_variables_initializer())\n",
    "    num_examples = len(X_train)\n",
    "    \n",
    "    print(\"Training...\")\n",
    "    print()\n",
    "    \n",
    "    training_acc_hist = []\n",
    "    validation_acc_hist = []\n",
    "    \n",
    "    for i in range(EPOCHS):\n",
    "        X_train, y_train = shuffle(X_train, y_train)\n",
    "        for offset in range(0, num_examples, BATCH_SIZE):\n",
    "            end = offset + BATCH_SIZE\n",
    "            batch_x, batch_y = X_train[offset:end], y_train[offset:end]\n",
    "            sess.run(training_operation, feed_dict={x: batch_x, y: batch_y})\n",
    "            \n",
    "        training_accuracy = sess.run(accuracy_operation, feed_dict={x: X_train, y: y_train, keep_prob: 1.0})\n",
    "        validation_accuracy = sess.run(accuracy_operation, feed_dict={x: X_valid, y: y_valid, keep_prob: 1.0})\n",
    "        \n",
    "        training_acc_hist.append(training_accuracy)\n",
    "        validation_acc_hist.append(validation_accuracy)\n",
    "        \n",
    "        validation_accuracy = evaluate(X_valid, y_valid)\n",
    "        print(\"EPOCH {} ...\".format(i+1))\n",
    "        print(\"Training Accuracy = {:.3f}\".format(training_accuracy))\n",
    "        print(\"Validation Accuracy = {:.3f}\".format(validation_accuracy))\n",
    "        print()\n",
    "        \n",
    "    saver.save(sess, model_path)\n",
    "    print(\"Model saved\")"
   ]
  },
  {
   "cell_type": "markdown",
   "metadata": {},
   "source": [
    "### 4.v. Evaluate the Model (using test set)"
   ]
  },
  {
   "cell_type": "code",
   "execution_count": 96,
   "metadata": {},
   "outputs": [
    {
     "name": "stdout",
     "output_type": "stream",
     "text": [
      "Test Accuracy = 0.916\n"
     ]
    }
   ],
   "source": [
    "with tf.Session() as sess:\n",
    "    saver.restore(sess, tf.train.latest_checkpoint('.'))\n",
    "\n",
    "    test_accuracy = evaluate(X_test, y_test)\n",
    "    print(\"Test Accuracy = {:.3f}\".format(test_accuracy))"
   ]
  },
  {
   "cell_type": "markdown",
   "metadata": {},
   "source": [
    "---\n",
    "\n",
    "## 5. Test our Model on New Images\n",
    "\n",
    "We can know check the performance of our model on random pictures of German traffic signs downloaded from the Internet."
   ]
  },
  {
   "cell_type": "markdown",
   "metadata": {},
   "source": [
    "### 5.i. Load and Output the Images"
   ]
  },
  {
   "cell_type": "code",
   "execution_count": 97,
   "metadata": {},
   "outputs": [],
   "source": [
    "def read_image(image_path):\n",
    "    img = cv2.cvtColor(cv2.imread(image_path),cv2.COLOR_BGR2RGB)\n",
    "    img = cv2.resize(img, (image_shape[0], image_shape[1]))\n",
    "    return img"
   ]
  },
  {
   "cell_type": "code",
   "execution_count": 98,
   "metadata": {},
   "outputs": [],
   "source": [
    "def show_images(images, cmap=None, labels=None):\n",
    "    cols = 2\n",
    "    rows = (len(images)+1)//cols\n",
    "    \n",
    "    plt.figure(figsize=(10, 11))\n",
    "    for i, image in enumerate(images):\n",
    "        plt.subplot(rows, cols, i+1)\n",
    "        \n",
    "        cmap = 'gray' if len(image.shape)==2 else cmap\n",
    "        plt.imshow(image, cmap=cmap)\n",
    "        plt.xticks([])\n",
    "        plt.yticks([])\n",
    "        if labels is not None:\n",
    "            plt.title(sign_dict[labels[i]])\n",
    "    plt.tight_layout(pad=0, h_pad=0, w_pad=0)\n",
    "    plt.show()"
   ]
  },
  {
   "cell_type": "code",
   "execution_count": 99,
   "metadata": {},
   "outputs": [],
   "source": [
    "new_labels = [11, 1, 12, 14, 25, 33]"
   ]
  },
  {
   "cell_type": "code",
   "execution_count": 100,
   "metadata": {},
   "outputs": [],
   "source": [
    "new_images = [read_image(os.path.join(new_images_path, 'test_image_' + str(i + 1) + '.jpg')) for i in list(range(6))]"
   ]
  },
  {
   "cell_type": "code",
   "execution_count": 101,
   "metadata": {},
   "outputs": [
    {
     "data": {
      "image/png": "[encoded data removed]",
      "text/plain": [
       "<matplotlib.figure.Figure at 0x13f1e1e80>"
      ]
     },
     "metadata": {},
     "output_type": "display_data"
    }
   ],
   "source": [
    "show_images(new_images, labels=new_labels)"
   ]
  },
  {
   "cell_type": "markdown",
   "metadata": {},
   "source": [
    "### 5.ii. Predict the Sign Type for Each Image"
   ]
  },
  {
   "cell_type": "code",
   "execution_count": 102,
   "metadata": {},
   "outputs": [],
   "source": [
    "new_images_processed = [pre_process_img(img) for img in new_images]\n",
    "X_new_images = np.array(new_images_processed)[:,:,:, np.newaxis]"
   ]
  },
  {
   "cell_type": "code",
   "execution_count": 103,
   "metadata": {},
   "outputs": [
    {
     "name": "stdout",
     "output_type": "stream",
     "text": [
      "New Image Accuracy = 0.500\n"
     ]
    }
   ],
   "source": [
    "with tf.Session() as sess:\n",
    "    saver.restore(sess, tf.train.latest_checkpoint('.'))\n",
    "\n",
    "    new_img_accuracy = evaluate(X_new_images, new_labels)\n",
    "    print(\"New Image Accuracy = {:.3f}\".format(new_img_accuracy))"
   ]
  },
  {
   "cell_type": "markdown",
   "metadata": {},
   "source": [
    "### 5.iii. Output Top 5 Softmax Probabilities For Each Image Found on the Web"
   ]
  },
  {
   "cell_type": "markdown",
   "metadata": {},
   "source": [
    "For each of the new images, let's print out the model's softmax probabilities to show the **certainty** of the model's predictions (we will limit the output to the top 5 probabilities for each image). For this purpose, we will use the  [`tf.nn.top_k`](https://www.tensorflow.org/versions/r0.12/api_docs/python/nn.html#top_k) function."
   ]
  },
  {
   "cell_type": "code",
   "execution_count": 104,
   "metadata": {
    "scrolled": false
   },
   "outputs": [
    {
     "ename": "ValueError",
     "evalue": "Argument must be a dense tensor: [array([[  0.00000000e+00,   0.00000000e+00,   0.00000000e+00,\n          0.00000000e+00,   0.00000000e+00,   0.00000000e+00,\n          0.00000000e+00,   0.00000000e+00,   0.00000000e+00,\n          0.00000000e+00,   0.00000000e+00,   1.00000000e+00,\n          0.00000000e+00,   0.00000000e+00,   0.00000000e+00,\n          0.00000000e+00,   0.00000000e+00,   0.00000000e+00,\n          0.00000000e+00,   0.00000000e+00,   0.00000000e+00,\n          1.04697394e-19,   0.00000000e+00,   0.00000000e+00,\n          0.00000000e+00,   2.88202890e-30,   0.00000000e+00,\n          3.19072454e-37,   0.00000000e+00,   0.00000000e+00,\n          6.85963255e-33,   0.00000000e+00,   0.00000000e+00,\n          0.00000000e+00,   0.00000000e+00,   0.00000000e+00,\n          0.00000000e+00,   0.00000000e+00,   0.00000000e+00,\n          0.00000000e+00,   0.00000000e+00,   0.00000000e+00,\n          0.00000000e+00],\n       [  7.37496730e-10,   5.84887346e-07,   2.84087653e-20,\n          3.08882626e-14,   4.53493177e-27,   3.31820943e-03,\n          1.89794693e-21,   0.00000000e+00,   9.21961283e-18,\n          0.00000000e+00,   0.00000000e+00,   9.96681154e-01,\n          0.00000000e+00,   1.49249340e-26,   2.99547061e-15,\n          0.00000000e+00,   0.00000000e+00,   0.00000000e+00,\n          8.14183785e-18,   0.00000000e+00,   1.19659039e-37,\n          2.91166313e-10,   0.00000000e+00,   7.77489523e-33,\n          0.00000000e+00,   2.33334847e-21,   1.47763055e-38,\n          0.00000000e+00,   1.22733035e-27,   3.68551127e-11,\n          0.00000000e+00,   6.41053989e-21,   0.00000000e+00,\n          0.00000000e+00,   3.41394640e-23,   3.61590701e-35,\n          0.00000000e+00,   5.64489327e-26,   4.20822173e-23,\n          0.00000000e+00,   0.00000000e+00,   0.00000000e+00,\n          0.00000000e+00],\n       [  0.00000000e+00,   0.00000000e+00,   0.00000000e+00,\n          0.00000000e+00,   0.00000000e+00,   0.00000000e+00,\n          0.00000000e+00,   0.00000000e+00,   0.00000000e+00,\n          0.00000000e+00,   0.00000000e+00,   1.05210210e-35,\n          1.00000000e+00,   0.00000000e+00,   0.00000000e+00,\n          0.00000000e+00,   0.00000000e+00,   0.00000000e+00,\n          0.00000000e+00,   0.00000000e+00,   0.00000000e+00,\n          0.00000000e+00,   0.00000000e+00,   0.00000000e+00,\n          0.00000000e+00,   0.00000000e+00,   0.00000000e+00,\n          0.00000000e+00,   2.41467531e-23,   0.00000000e+00,\n          0.00000000e+00,   0.00000000e+00,   0.00000000e+00,\n          0.00000000e+00,   0.00000000e+00,   0.00000000e+00,\n          0.00000000e+00,   0.00000000e+00,   0.00000000e+00,\n          0.00000000e+00,   3.57104205e-23,   0.00000000e+00,\n          0.00000000e+00],\n       [  1.77843341e-12,   2.47720542e-04,   1.18657326e-05,\n          8.76226116e-19,   1.06578205e-16,   3.57960737e-08,\n          1.35164480e-09,   1.61663495e-11,   4.02387232e-05,\n          1.23595065e-10,   1.66881676e-07,   3.82666433e-11,\n          1.32781324e-07,   5.36660582e-06,   3.94160040e-02,\n          1.09173220e-21,   6.67778116e-13,   3.10022392e-06,\n          1.54355850e-21,   9.65988772e-16,   5.77242074e-12,\n          1.75556597e-20,   4.68787863e-28,   1.08317862e-13,\n          7.92834891e-25,   8.08864187e-17,   5.16086089e-12,\n          1.76706541e-31,   6.76562070e-11,   7.55616751e-18,\n          1.61989838e-10,   5.17844671e-14,   7.57462258e-05,\n          4.04896871e-19,   2.30414118e-10,   2.80848808e-15,\n          1.37234928e-16,   5.81625960e-17,   6.20460371e-04,\n          7.75719788e-17,   1.02652839e-05,   9.59568918e-01,\n          9.51721812e-09],\n       [  1.70990053e-36,   1.31239576e-16,   0.00000000e+00,\n          1.52590110e-22,   0.00000000e+00,   2.35185538e-10,\n          0.00000000e+00,   7.77921296e-33,   0.00000000e+00,\n          0.00000000e+00,   0.00000000e+00,   1.09128716e-28,\n          0.00000000e+00,   0.00000000e+00,   0.00000000e+00,\n          0.00000000e+00,   0.00000000e+00,   0.00000000e+00,\n          1.04432571e-34,   0.00000000e+00,   8.80369210e-30,\n          2.21418429e-30,   4.63797967e-12,   1.26349502e-18,\n          7.27800057e-07,   9.65543270e-01,   0.00000000e+00,\n          0.00000000e+00,   7.98068056e-21,   3.44559960e-02,\n          3.12216121e-11,   1.05931889e-28,   0.00000000e+00,\n          0.00000000e+00,   3.54126647e-38,   9.74552538e-26,\n          0.00000000e+00,   1.10066183e-18,   1.19835795e-34,\n          0.00000000e+00,   5.70048439e-38,   0.00000000e+00,\n          0.00000000e+00],\n       [  3.10460296e-10,   4.06469173e-12,   1.57309998e-09,\n          1.19101769e-05,   2.88170270e-17,   1.54332633e-06,\n          9.84946033e-04,   1.03098250e-11,   8.92231574e-14,\n          8.32832970e-20,   4.01996348e-28,   1.14738801e-03,\n          3.20314908e-09,   3.87446391e-21,   2.35665193e-13,\n          1.57450312e-30,   2.48098277e-05,   5.28799262e-36,\n          7.04175813e-13,   5.87773212e-28,   1.10239616e-05,\n          7.98676138e-27,   0.00000000e+00,   2.31004541e-15,\n          2.45816775e-15,   1.29307490e-34,   4.36333400e-11,\n          3.25481273e-25,   2.76874744e-07,   1.24446204e-04,\n          9.88280903e-22,   6.81241393e-35,   9.96958852e-01,\n          5.67991752e-04,   1.84308715e-28,   1.64464465e-04,\n          1.07428922e-34,   4.77858414e-19,   9.00434241e-14,\n          6.66193113e-24,   2.38561825e-06,   7.76971972e-15,\n          4.46965754e-17]], dtype=float32)] - got shape [1, 6, 43], but wanted [1].",
     "output_type": "error",
     "traceback": [
      "\u001b[0;31m---------------------------------------------------------------------------\u001b[0m",
      "\u001b[0;31mValueError\u001b[0m                                Traceback (most recent call last)",
      "\u001b[0;32m<ipython-input-104-8af35dfa4c0d>\u001b[0m in \u001b[0;36m<module>\u001b[0;34m()\u001b[0m\n\u001b[1;32m      2\u001b[0m     \u001b[0msaver\u001b[0m\u001b[0;34m.\u001b[0m\u001b[0mrestore\u001b[0m\u001b[0;34m(\u001b[0m\u001b[0msess\u001b[0m\u001b[0;34m,\u001b[0m \u001b[0mtf\u001b[0m\u001b[0;34m.\u001b[0m\u001b[0mtrain\u001b[0m\u001b[0;34m.\u001b[0m\u001b[0mlatest_checkpoint\u001b[0m\u001b[0;34m(\u001b[0m\u001b[0;34m'.'\u001b[0m\u001b[0;34m)\u001b[0m\u001b[0;34m)\u001b[0m\u001b[0;34m\u001b[0m\u001b[0m\n\u001b[1;32m      3\u001b[0m \u001b[0;34m\u001b[0m\u001b[0m\n\u001b[0;32m----> 4\u001b[0;31m     \u001b[0mlogits\u001b[0m \u001b[0;34m=\u001b[0m \u001b[0msess\u001b[0m\u001b[0;34m.\u001b[0m\u001b[0mrun\u001b[0m\u001b[0;34m(\u001b[0m\u001b[0;34m[\u001b[0m\u001b[0mtf\u001b[0m\u001b[0;34m.\u001b[0m\u001b[0mnn\u001b[0m\u001b[0;34m.\u001b[0m\u001b[0msoftmax\u001b[0m\u001b[0;34m(\u001b[0m\u001b[0mlogits\u001b[0m\u001b[0;34m)\u001b[0m\u001b[0;34m]\u001b[0m\u001b[0;34m,\u001b[0m \u001b[0mfeed_dict\u001b[0m\u001b[0;34m=\u001b[0m\u001b[0;34m{\u001b[0m\u001b[0mx\u001b[0m\u001b[0;34m:\u001b[0m \u001b[0mX_new_images\u001b[0m\u001b[0;34m,\u001b[0m \u001b[0my\u001b[0m\u001b[0;34m:\u001b[0m \u001b[0mnew_labels\u001b[0m\u001b[0;34m,\u001b[0m \u001b[0mkeep_prob\u001b[0m\u001b[0;34m:\u001b[0m \u001b[0;36m1.0\u001b[0m\u001b[0;34m}\u001b[0m\u001b[0;34m)\u001b[0m\u001b[0;34m\u001b[0m\u001b[0m\n\u001b[0m\u001b[1;32m      5\u001b[0m     \u001b[0mprint\u001b[0m\u001b[0;34m(\u001b[0m\u001b[0;34m\"Test Accuracy = {:.3f}\"\u001b[0m\u001b[0;34m.\u001b[0m\u001b[0mformat\u001b[0m\u001b[0;34m(\u001b[0m\u001b[0mnew_img_accuracy\u001b[0m\u001b[0;34m)\u001b[0m\u001b[0;34m)\u001b[0m\u001b[0;34m\u001b[0m\u001b[0m\n",
      "\u001b[0;32m~/anaconda3/envs/carnd-term1/lib/python3.5/site-packages/tensorflow/python/ops/nn_ops.py\u001b[0m in \u001b[0;36msoftmax\u001b[0;34m(logits, dim, name)\u001b[0m\n\u001b[1;32m   1353\u001b[0m       \u001b[0mdimension\u001b[0m \u001b[0mof\u001b[0m\u001b[0;31m \u001b[0m\u001b[0;31m`\u001b[0m\u001b[0mlogits\u001b[0m\u001b[0;31m`\u001b[0m\u001b[0;34m.\u001b[0m\u001b[0;34m\u001b[0m\u001b[0m\n\u001b[1;32m   1354\u001b[0m   \"\"\"\n\u001b[0;32m-> 1355\u001b[0;31m   \u001b[0;32mreturn\u001b[0m \u001b[0m_softmax\u001b[0m\u001b[0;34m(\u001b[0m\u001b[0mlogits\u001b[0m\u001b[0;34m,\u001b[0m \u001b[0mgen_nn_ops\u001b[0m\u001b[0;34m.\u001b[0m\u001b[0m_softmax\u001b[0m\u001b[0;34m,\u001b[0m \u001b[0mdim\u001b[0m\u001b[0;34m,\u001b[0m \u001b[0mname\u001b[0m\u001b[0;34m)\u001b[0m\u001b[0;34m\u001b[0m\u001b[0m\n\u001b[0m\u001b[1;32m   1356\u001b[0m \u001b[0;34m\u001b[0m\u001b[0m\n\u001b[1;32m   1357\u001b[0m \u001b[0;34m\u001b[0m\u001b[0m\n",
      "\u001b[0;32m~/anaconda3/envs/carnd-term1/lib/python3.5/site-packages/tensorflow/python/ops/nn_ops.py\u001b[0m in \u001b[0;36m_softmax\u001b[0;34m(logits, compute_op, dim, name)\u001b[0m\n\u001b[1;32m   1292\u001b[0m             math_ops.range(dim_index + 1, last_index), [dim_index]]))\n\u001b[1;32m   1293\u001b[0m \u001b[0;34m\u001b[0m\u001b[0m\n\u001b[0;32m-> 1294\u001b[0;31m   \u001b[0mlogits\u001b[0m \u001b[0;34m=\u001b[0m \u001b[0mops\u001b[0m\u001b[0;34m.\u001b[0m\u001b[0mconvert_to_tensor\u001b[0m\u001b[0;34m(\u001b[0m\u001b[0mlogits\u001b[0m\u001b[0;34m)\u001b[0m\u001b[0;34m\u001b[0m\u001b[0m\n\u001b[0m\u001b[1;32m   1295\u001b[0m   \u001b[0;32mif\u001b[0m \u001b[0mlogits\u001b[0m\u001b[0;34m.\u001b[0m\u001b[0mget_shape\u001b[0m\u001b[0;34m(\u001b[0m\u001b[0;34m)\u001b[0m\u001b[0;34m.\u001b[0m\u001b[0mndims\u001b[0m \u001b[0;32mis\u001b[0m \u001b[0;36m2\u001b[0m \u001b[0;32mand\u001b[0m \u001b[0mdim\u001b[0m \u001b[0;32mis\u001b[0m \u001b[0;34m-\u001b[0m\u001b[0;36m1\u001b[0m\u001b[0;34m:\u001b[0m\u001b[0;34m\u001b[0m\u001b[0m\n\u001b[1;32m   1296\u001b[0m     \u001b[0;32mreturn\u001b[0m \u001b[0mcompute_op\u001b[0m\u001b[0;34m(\u001b[0m\u001b[0mlogits\u001b[0m\u001b[0;34m,\u001b[0m \u001b[0mname\u001b[0m\u001b[0;34m=\u001b[0m\u001b[0mname\u001b[0m\u001b[0;34m)\u001b[0m\u001b[0;34m\u001b[0m\u001b[0m\n",
      "\u001b[0;32m~/anaconda3/envs/carnd-term1/lib/python3.5/site-packages/tensorflow/python/framework/ops.py\u001b[0m in \u001b[0;36mconvert_to_tensor\u001b[0;34m(value, dtype, name, as_ref, preferred_dtype)\u001b[0m\n\u001b[1;32m    667\u001b[0m \u001b[0;34m\u001b[0m\u001b[0m\n\u001b[1;32m    668\u001b[0m         \u001b[0;32mif\u001b[0m \u001b[0mret\u001b[0m \u001b[0;32mis\u001b[0m \u001b[0;32mNone\u001b[0m\u001b[0;34m:\u001b[0m\u001b[0;34m\u001b[0m\u001b[0m\n\u001b[0;32m--> 669\u001b[0;31m           \u001b[0mret\u001b[0m \u001b[0;34m=\u001b[0m \u001b[0mconversion_func\u001b[0m\u001b[0;34m(\u001b[0m\u001b[0mvalue\u001b[0m\u001b[0;34m,\u001b[0m \u001b[0mdtype\u001b[0m\u001b[0;34m=\u001b[0m\u001b[0mdtype\u001b[0m\u001b[0;34m,\u001b[0m \u001b[0mname\u001b[0m\u001b[0;34m=\u001b[0m\u001b[0mname\u001b[0m\u001b[0;34m,\u001b[0m \u001b[0mas_ref\u001b[0m\u001b[0;34m=\u001b[0m\u001b[0mas_ref\u001b[0m\u001b[0;34m)\u001b[0m\u001b[0;34m\u001b[0m\u001b[0m\n\u001b[0m\u001b[1;32m    670\u001b[0m \u001b[0;34m\u001b[0m\u001b[0m\n\u001b[1;32m    671\u001b[0m         \u001b[0;32mif\u001b[0m \u001b[0mret\u001b[0m \u001b[0;32mis\u001b[0m \u001b[0mNotImplemented\u001b[0m\u001b[0;34m:\u001b[0m\u001b[0;34m\u001b[0m\u001b[0m\n",
      "\u001b[0;32m~/anaconda3/envs/carnd-term1/lib/python3.5/site-packages/tensorflow/python/framework/constant_op.py\u001b[0m in \u001b[0;36m_constant_tensor_conversion_function\u001b[0;34m(v, dtype, name, as_ref)\u001b[0m\n\u001b[1;32m    174\u001b[0m                                          as_ref=False):\n\u001b[1;32m    175\u001b[0m   \u001b[0m_\u001b[0m \u001b[0;34m=\u001b[0m \u001b[0mas_ref\u001b[0m\u001b[0;34m\u001b[0m\u001b[0m\n\u001b[0;32m--> 176\u001b[0;31m   \u001b[0;32mreturn\u001b[0m \u001b[0mconstant\u001b[0m\u001b[0;34m(\u001b[0m\u001b[0mv\u001b[0m\u001b[0;34m,\u001b[0m \u001b[0mdtype\u001b[0m\u001b[0;34m=\u001b[0m\u001b[0mdtype\u001b[0m\u001b[0;34m,\u001b[0m \u001b[0mname\u001b[0m\u001b[0;34m=\u001b[0m\u001b[0mname\u001b[0m\u001b[0;34m)\u001b[0m\u001b[0;34m\u001b[0m\u001b[0m\n\u001b[0m\u001b[1;32m    177\u001b[0m \u001b[0;34m\u001b[0m\u001b[0m\n\u001b[1;32m    178\u001b[0m \u001b[0;34m\u001b[0m\u001b[0m\n",
      "\u001b[0;32m~/anaconda3/envs/carnd-term1/lib/python3.5/site-packages/tensorflow/python/framework/constant_op.py\u001b[0m in \u001b[0;36mconstant\u001b[0;34m(value, dtype, shape, name, verify_shape)\u001b[0m\n\u001b[1;32m    163\u001b[0m   \u001b[0mtensor_value\u001b[0m \u001b[0;34m=\u001b[0m \u001b[0mattr_value_pb2\u001b[0m\u001b[0;34m.\u001b[0m\u001b[0mAttrValue\u001b[0m\u001b[0;34m(\u001b[0m\u001b[0;34m)\u001b[0m\u001b[0;34m\u001b[0m\u001b[0m\n\u001b[1;32m    164\u001b[0m   tensor_value.tensor.CopyFrom(\n\u001b[0;32m--> 165\u001b[0;31m       tensor_util.make_tensor_proto(value, dtype=dtype, shape=shape, verify_shape=verify_shape))\n\u001b[0m\u001b[1;32m    166\u001b[0m   \u001b[0mdtype_value\u001b[0m \u001b[0;34m=\u001b[0m \u001b[0mattr_value_pb2\u001b[0m\u001b[0;34m.\u001b[0m\u001b[0mAttrValue\u001b[0m\u001b[0;34m(\u001b[0m\u001b[0mtype\u001b[0m\u001b[0;34m=\u001b[0m\u001b[0mtensor_value\u001b[0m\u001b[0;34m.\u001b[0m\u001b[0mtensor\u001b[0m\u001b[0;34m.\u001b[0m\u001b[0mdtype\u001b[0m\u001b[0;34m)\u001b[0m\u001b[0;34m\u001b[0m\u001b[0m\n\u001b[1;32m    167\u001b[0m   const_tensor = g.create_op(\n",
      "\u001b[0;32m~/anaconda3/envs/carnd-term1/lib/python3.5/site-packages/tensorflow/python/framework/tensor_util.py\u001b[0m in \u001b[0;36mmake_tensor_proto\u001b[0;34m(values, dtype, shape, verify_shape)\u001b[0m\n\u001b[1;32m    374\u001b[0m                          \"\"\" - got shape %s, but wanted %s.\"\"\" % (\n\u001b[1;32m    375\u001b[0m                              \u001b[0mvalues\u001b[0m\u001b[0;34m,\u001b[0m \u001b[0mlist\u001b[0m\u001b[0;34m(\u001b[0m\u001b[0mnparray\u001b[0m\u001b[0;34m.\u001b[0m\u001b[0mshape\u001b[0m\u001b[0;34m)\u001b[0m\u001b[0;34m,\u001b[0m\u001b[0;34m\u001b[0m\u001b[0m\n\u001b[0;32m--> 376\u001b[0;31m                              _GetDenseDimensions(values)))\n\u001b[0m\u001b[1;32m    377\u001b[0m \u001b[0;34m\u001b[0m\u001b[0m\n\u001b[1;32m    378\u001b[0m     \u001b[0;31m# python/numpy default float type is float64. We prefer float32 instead.\u001b[0m\u001b[0;34m\u001b[0m\u001b[0;34m\u001b[0m\u001b[0m\n",
      "\u001b[0;31mValueError\u001b[0m: Argument must be a dense tensor: [array([[  0.00000000e+00,   0.00000000e+00,   0.00000000e+00,\n          0.00000000e+00,   0.00000000e+00,   0.00000000e+00,\n          0.00000000e+00,   0.00000000e+00,   0.00000000e+00,\n          0.00000000e+00,   0.00000000e+00,   1.00000000e+00,\n          0.00000000e+00,   0.00000000e+00,   0.00000000e+00,\n          0.00000000e+00,   0.00000000e+00,   0.00000000e+00,\n          0.00000000e+00,   0.00000000e+00,   0.00000000e+00,\n          1.04697394e-19,   0.00000000e+00,   0.00000000e+00,\n          0.00000000e+00,   2.88202890e-30,   0.00000000e+00,\n          3.19072454e-37,   0.00000000e+00,   0.00000000e+00,\n          6.85963255e-33,   0.00000000e+00,   0.00000000e+00,\n          0.00000000e+00,   0.00000000e+00,   0.00000000e+00,\n          0.00000000e+00,   0.00000000e+00,   0.00000000e+00,\n          0.00000000e+00,   0.00000000e+00,   0.00000000e+00,\n          0.00000000e+00],\n       [  7.37496730e-10,   5.84887346e-07,   2.84087653e-20,\n          3.08882626e-14,   4.53493177e-27,   3.31820943e-03,\n          1.89794693e-21,   0.00000000e+00,   9.21961283e-18,\n          0.00000000e+00,   0.00000000e+00,   9.96681154e-01,\n          0.00000000e+00,   1.49249340e-26,   2.99547061e-15,\n          0.00000000e+00,   0.00000000e+00,   0.00000000e+00,\n          8.14183785e-18,   0.00000000e+00,   1.19659039e-37,\n          2.91166313e-10,   0.00000000e+00,   7.77489523e-33,\n          0.00000000e+00,   2.33334847e-21,   1.47763055e-38,\n          0.00000000e+00,   1.22733035e-27,   3.68551127e-11,\n          0.00000000e+00,   6.41053989e-21,   0.00000000e+00,\n          0.00000000e+00,   3.41394640e-23,   3.61590701e-35,\n          0.00000000e+00,   5.64489327e-26,   4.20822173e-23,\n          0.00000000e+00,   0.00000000e+00,   0.00000000e+00,\n          0.00000000e+00],\n       [  0.00000000e+00,   0.00000000e+00,   0.00000000e+00,\n          0.00000000e+00,   0.00000000e+00,   0.00000000e+00,\n          0.00000000e+00,   0.00000000e+00,   0.00000000e+00,\n          0.00000000e+00,   0.00000000e+00,   1.05210210e-35,\n          1.00000000e+00,   0.00000000e+00,   0.00000000e+00,\n          0.00000000e+00,   0.00000000e+00,   0.00000000e+00,\n          0.00000000e+00,   0.00000000e+00,   0.00000000e+00,\n          0.00000000e+00,   0.00000000e+00,   0.00000000e+00,\n          0.00000000e+00,   0.00000000e+00,   0.00000000e+00,\n          0.00000000e+00,   2.41467531e-23,   0.00000000e+00,\n          0.00000000e+00,   0.00000000e+00,   0.00000000e+00,\n          0.00000000e+00,   0.00000000e+00,   0.00000000e+00,\n          0.00000000e+00,   0.00000000e+00,   0.00000000e+00,\n          0.00000000e+00,   3.57104205e-23,   0.00000000e+00,\n          0.00000000e+00],\n       [  1.77843341e-12,   2.47720542e-04,   1.18657326e-05,\n          8.76226116e-19,   1.06578205e-16,   3.57960737e-08,\n          1.35164480e-09,   1.61663495e-11,   4.02387232e-05,\n          1.23595065e-10,   1.66881676e-07,   3.82666433e-11,\n          1.32781324e-07,   5.36660582e-06,   3.94160040e-02,\n          1.09173220e-21,   6.67778116e-13,   3.10022392e-06,\n          1.54355850e-21,   9.65988772e-16,   5.77242074e-12,\n          1.75556597e-20,   4.68787863e-28,   1.08317862e-13,\n          7.92834891e-25,   8.08864187e-17,   5.16086089e-12,\n          1.76706541e-31,   6.76562070e-11,   7.55616751e-18,\n          1.61989838e-10,   5.17844671e-14,   7.57462258e-05,\n          4.04896871e-19,   2.30414118e-10,   2.80848808e-15,\n          1.37234928e-16,   5.81625960e-17,   6.20460371e-04,\n          7.75719788e-17,   1.02652839e-05,   9.59568918e-01,\n          9.51721812e-09],\n       [  1.70990053e-36,   1.31239576e-16,   0.00000000e+00,\n          1.52590110e-22,   0.00000000e+00,   2.35185538e-10,\n          0.00000000e+00,   7.77921296e-33,   0.00000000e+00,\n          0.00000000e+00,   0.00000000e+00,   1.09128716e-28,\n          0.00000000e+00,   0.00000000e+00,   0.00000000e+00,\n          0.00000000e+00,   0.00000000e+00,   0.00000000e+00,\n          1.04432571e-34,   0.00000000e+00,   8.80369210e-30,\n          2.21418429e-30,   4.63797967e-12,   1.26349502e-18,\n          7.27800057e-07,   9.65543270e-01,   0.00000000e+00,\n          0.00000000e+00,   7.98068056e-21,   3.44559960e-02,\n          3.12216121e-11,   1.05931889e-28,   0.00000000e+00,\n          0.00000000e+00,   3.54126647e-38,   9.74552538e-26,\n          0.00000000e+00,   1.10066183e-18,   1.19835795e-34,\n          0.00000000e+00,   5.70048439e-38,   0.00000000e+00,\n          0.00000000e+00],\n       [  3.10460296e-10,   4.06469173e-12,   1.57309998e-09,\n          1.19101769e-05,   2.88170270e-17,   1.54332633e-06,\n          9.84946033e-04,   1.03098250e-11,   8.92231574e-14,\n          8.32832970e-20,   4.01996348e-28,   1.14738801e-03,\n          3.20314908e-09,   3.87446391e-21,   2.35665193e-13,\n          1.57450312e-30,   2.48098277e-05,   5.28799262e-36,\n          7.04175813e-13,   5.87773212e-28,   1.10239616e-05,\n          7.98676138e-27,   0.00000000e+00,   2.31004541e-15,\n          2.45816775e-15,   1.29307490e-34,   4.36333400e-11,\n          3.25481273e-25,   2.76874744e-07,   1.24446204e-04,\n          9.88280903e-22,   6.81241393e-35,   9.96958852e-01,\n          5.67991752e-04,   1.84308715e-28,   1.64464465e-04,\n          1.07428922e-34,   4.77858414e-19,   9.00434241e-14,\n          6.66193113e-24,   2.38561825e-06,   7.76971972e-15,\n          4.46965754e-17]], dtype=float32)] - got shape [1, 6, 43], but wanted [1]."
     ]
    }
   ],
   "source": [
    "with tf.Session() as sess:\n",
    "    saver.restore(sess, tf.train.latest_checkpoint('.'))\n",
    "\n",
    "    logits = sess.run([tf.nn.softmax(logits)], feed_dict={x: X_new_images, y: new_labels, keep_prob: 1.0})\n",
    "    print(\"Test Accuracy = {:.3f}\".format(new_img_accuracy))"
   ]
  },
  {
   "cell_type": "markdown",
   "metadata": {},
   "source": [
    "### Project Writeup\n",
    "\n",
    "Once you have completed the code implementation, document your results in a project writeup using this [template](https://github.com/udacity/CarND-Traffic-Sign-Classifier-Project/blob/master/writeup_template.md) as a guide. The writeup can be in a markdown or pdf file. "
   ]
  },
  {
   "cell_type": "markdown",
   "metadata": {},
   "source": [
    "> **Note**: Once you have completed all of the code implementations and successfully answered each question above, you may finalize your work by exporting the iPython Notebook as an HTML document. You can do this by using the menu above and navigating to  \\n\",\n",
    "    \"**File -> Download as -> HTML (.html)**. Include the finished document along with this notebook as your submission."
   ]
  },
  {
   "cell_type": "markdown",
   "metadata": {},
   "source": [
    "---\n",
    "\n",
    "## Step 4 (Optional): Visualize the Neural Network's State with Test Images\n",
    "\n",
    " This Section is not required to complete but acts as an additional excersise for understaning the output of a neural network's weights. While neural networks can be a great learning device they are often referred to as a black box. We can understand what the weights of a neural network look like better by plotting their feature maps. After successfully training your neural network you can see what it's feature maps look like by plotting the output of the network's weight layers in response to a test stimuli image. From these plotted feature maps, it's possible to see what characteristics of an image the network finds interesting. For a sign, maybe the inner network feature maps react with high activation to the sign's boundary outline or to the contrast in the sign's painted symbol.\n",
    "\n",
    " Provided for you below is the function code that allows you to get the visualization output of any tensorflow weight layer you want. The inputs to the function should be a stimuli image, one used during training or a new one you provided, and then the tensorflow variable name that represents the layer's state during the training process, for instance if you wanted to see what the [LeNet lab's](https://classroom.udacity.com/nanodegrees/nd013/parts/fbf77062-5703-404e-b60c-95b78b2f3f9e/modules/6df7ae49-c61c-4bb2-a23e-6527e69209ec/lessons/601ae704-1035-4287-8b11-e2c2716217ad/concepts/d4aca031-508f-4e0b-b493-e7b706120f81) feature maps looked like for it's second convolutional layer you could enter conv2 as the tf_activation variable.\n",
    "\n",
    "For an example of what feature map outputs look like, check out NVIDIA's results in their paper [End-to-End Deep Learning for Self-Driving Cars](https://devblogs.nvidia.com/parallelforall/deep-learning-self-driving-cars/) in the section Visualization of internal CNN State. NVIDIA was able to show that their network's inner weights had high activations to road boundary lines by comparing feature maps from an image with a clear path to one without. Try experimenting with a similar test to show that your trained network's weights are looking for interesting features, whether it's looking at differences in feature maps from images with or without a sign, or even what feature maps look like in a trained network vs a completely untrained one on the same sign image.\n",
    "\n",
    "<figure>\n",
    " <img src=\"visualize_cnn.png\" width=\"380\" alt=\"Combined Image\" />\n",
    " <figcaption>\n",
    " <p></p> \n",
    " <p style=\"text-align: center;\"> Your output should look something like this (above)</p> \n",
    " </figcaption>\n",
    "</figure>\n",
    " <p></p> \n"
   ]
  },
  {
   "cell_type": "code",
   "execution_count": null,
   "metadata": {
    "collapsed": true
   },
   "outputs": [],
   "source": [
    "### Visualize your network's feature maps here.\n",
    "### Feel free to use as many code cells as needed.\n",
    "\n",
    "# image_input: the test image being fed into the network to produce the feature maps\n",
    "# tf_activation: should be a tf variable name used during your training procedure that represents the calculated state of a specific weight layer\n",
    "# activation_min/max: can be used to view the activation contrast in more detail, by default matplot sets min and max to the actual min and max values of the output\n",
    "# plt_num: used to plot out multiple different weight feature map sets on the same block, just extend the plt number for each new feature map entry\n",
    "\n",
    "def outputFeatureMap(image_input, tf_activation, activation_min=-1, activation_max=-1 ,plt_num=1):\n",
    "    # Here make sure to preprocess your image_input in a way your network expects\n",
    "    # with size, normalization, ect if needed\n",
    "    # image_input =\n",
    "    # Note: x should be the same name as your network's tensorflow data placeholder variable\n",
    "    # If you get an error tf_activation is not defined it may be having trouble accessing the variable from inside a function\n",
    "    activation = tf_activation.eval(session=sess,feed_dict={x : image_input})\n",
    "    featuremaps = activation.shape[3]\n",
    "    plt.figure(plt_num, figsize=(15,15))\n",
    "    for featuremap in range(featuremaps):\n",
    "        plt.subplot(6,8, featuremap+1) # sets the number of feature maps to show on each row and column\n",
    "        plt.title('FeatureMap ' + str(featuremap)) # displays the feature map number\n",
    "        if activation_min != -1 & activation_max != -1:\n",
    "            plt.imshow(activation[0,:,:, featuremap], interpolation=\"nearest\", vmin =activation_min, vmax=activation_max, cmap=\"gray\")\n",
    "        elif activation_max != -1:\n",
    "            plt.imshow(activation[0,:,:, featuremap], interpolation=\"nearest\", vmax=activation_max, cmap=\"gray\")\n",
    "        elif activation_min !=-1:\n",
    "            plt.imshow(activation[0,:,:, featuremap], interpolation=\"nearest\", vmin=activation_min, cmap=\"gray\")\n",
    "        else:\n",
    "            plt.imshow(activation[0,:,:, featuremap], interpolation=\"nearest\", cmap=\"gray\")"
   ]
  }
 ],
 "metadata": {
  "anaconda-cloud": {},
  "kernelspec": {
   "display_name": "Python 3",
   "language": "python",
   "name": "python3"
  },
  "language_info": {
   "codemirror_mode": {
    "name": "ipython",
    "version": 3
   },
   "file_extension": ".py",
   "mimetype": "text/x-python",
   "name": "python",
   "nbconvert_exporter": "python",
   "pygments_lexer": "ipython3",
   "version": "3.5.2"
  },
  "widgets": {
   "state": {},
   "version": "1.1.2"
  }
 },
 "nbformat": 4,
 "nbformat_minor": 1
}
